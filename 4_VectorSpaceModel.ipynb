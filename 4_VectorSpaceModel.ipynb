{
 "cells": [
  {
   "cell_type": "markdown",
   "metadata": {},
   "source": [
    "# 4. Vector Space Model"
   ]
  },
  {
   "cell_type": "markdown",
   "metadata": {},
   "source": [
    "-----\n",
    "\n",
    "## 4.1.1 Vector Space Model\n",
    "\n",
    "### - 정의\n",
    "\n",
    "텍스트 문서를 벡터 공간에 나타내는 대수적인 모델로, 문서를 벡터 (Bag of Words)로 만들면 각각의 차원은 개별 단어에 대응 된다. \n",
    "\n",
    "예시 1.1. 벡터 공간 모델\n",
    "\n",
    "<img src= \"http://blog.christianperone.com/wp-content/uploads/2013/09/vector_space.png\" width = 400>\n",
    "\n",
    "\n",
    "## 4.1.2 Bag of Words\n",
    "\n",
    "예시 1.2. 문자 벡터 Bag of Words \n",
    "\n",
    "<img src = \"https://image.slidesharecdn.com/mrkt451speciallecture1i-140307202701-phpapp01/95/introduction-to-text-mining-8-638.jpg?cb=1394224092\" width = \"500\">\n",
    "\n",
    "소개 : https://www.slideshare.net/lucypark/nltk-gensim\n",
    "http://www.sfs.uni-tuebingen.de/~ddekok/ir/lectures/14vcat.pdf\n",
    "\n",
    "one-hot encoding(4.1.4): \n",
    "\n",
    "문서 내에 특정 단어가 **없을 경우**, 벡터 내 해당 차원에 할당된 값은 0이다. \n",
    "\n",
    "문서 내에 특정 단어가 **있을 경우**, 벡터 내 해당 차원에 할당된 값은 1 이상의 값이다.\n",
    "\n",
    "frequency(4.1.5): \n",
    "\n",
    "만약 문서 내에 특정 단어가 2번 출현했다면 해당 차원의 값은 2이다. \n",
    "\n",
    "매트릭스(Matrix) = 벡터가 여러개 합친 형태\n",
    "\n",
    "이런 BoW가 여러 개 모여서 매트릭스 형태를 가지고 있는 것이 벡터 공간 모델(Vector Space Model)이다. \n",
    "\n",
    "단어의 순서가 무시되기 때문에 이를 보완하기위해 n-gram을 사용한다. \n",
    "\n",
    "\n",
    "## 4.1.3. One-hot encoding\n",
    "\n",
    "문자열을 숫자 벡터로 치환하는 방법 중 하나. \n",
    "\n",
    "#### 단어가 있는지(1) 없는지(0)만 봄\n",
    "\n",
    "단어 집합의 크기를 가진 벡터를 만들고, 표현하고 싶은 단어의 인덱스에 1을 부여하고, 그렇지 않은 인덱스에는 0을 부여한다.\n",
    "\n",
    "문장: \"Life is short. Learn Python\"\n",
    "\n",
    "토큰별 생성된 테이블:\n",
    "\n",
    "| 0      | 1      | 2    | 3    | 4    |\n",
    "|--------|--------|------|------|------|\n",
    "| Life | is | short | Learn | Python |\n",
    "\n",
    "(벡터 표현)\n",
    "\n",
    "각 '1'의 값은 위치값을 알려줌\n",
    "\n",
    "```\n",
    "* Life -> [1, 0, 0, 0, 0] \n",
    "* is -> [0, 0, 1, 0, 0]\n",
    "```\n",
    "표현: <br>\n",
    "(document #, 0 or 1) e.g., 1번째 document = 0, 인덱스 값이 1인 단어 (\"is\") (0,1)\n",
    "\n",
    "\n",
    "## 4.1.4. N-grams \n",
    "\n",
    "<br>\n",
    "1. Example 2-grams <br>\n",
    "\n",
    "{\"The\", \"The cat\", \"cat\", \"cat sat\", \"sat\",\n",
    "  \"sat on\", \"on\", \"on the\", \"the\", \"the mat\", \"mat\"}\n",
    "<br>\n",
    "<br>\n",
    "2. Example 3-grams <br>\n",
    "\n",
    "{\"The\", \"The cat\", \"cat\", \"cat sat\", \"The cat sat\",\n",
    "  \"sat\", \"sat on\", \"on\", \"cat sat on\", \"on the\", \"the\",\n",
    "  \"sat on the\", \"the mat\", \"mat\", \"on the mat\"}\n",
    "<br>\n",
    "<br>\n",
    "**notice there are \"unordered sets\". \n",
    "\n",
    "</font>\n",
    "</div>\n",
    "\n",
    "----\n",
    "\n",
    "예시 1.3. 문장 벡터화 \n",
    "\n",
    "아래 두 문장이 있다.\n",
    "\n",
    "(1) John likes to play games. Mary likes movies too. \n",
    "(2) John also likes to watch football games. \n",
    "\n",
    "위 두 문장을 토큰화하여 가방에 담으면 다음과 같이 나온다. [ \"John\", \"likes\", \"to\", \"watch\", \"movies\", \"Mary\", \"too\", \"also\", \"football\", \"games\" ]\n",
    "\n",
    "그리고 배열의 순서대로 가방에서 각 토큰이 몇 번 등장하는지 횟수를 세어준다.\n",
    "\n",
    "(1) [1, 2, 1, 1, 2, 1, 1, 0, 0, 0] <br>\n",
    "(2) [1, 1, 1, 1, 0, 0, 0, 1, 1, 1] \n",
    "\n",
    "(= 각 단어를 숫자로 표현하여 컴퓨터 알고리즘이 이해할 수 있게 변환하는 작업이다)\n",
    "\n",
    "단어 가방을 n-gram을 적용하여 bigram으로 담으면 이렇게 된다.\n",
    "\n",
    "[ \"John likes\", \"likes to\", \"to watch\", \"watch movies\", \"Mary likes\", \"likes movies\", \"movies too\", ]\n",
    "\n",
    "\n",
    "## 4.1.5. Frequency\n",
    "\n",
    "각 문헌 안에 단어가 몇 번 등장했는지 봄. 각 단어에 할당되는 값 = 출현 빈도수\n",
    "\n",
    "#### 아래 TDM와 TF-IDF에서 더 자세히 설명"
   ]
  },
  {
   "cell_type": "markdown",
   "metadata": {},
   "source": [
    "### CountVectorizer 클래스로 BoW 만들기"
   ]
  },
  {
   "cell_type": "code",
   "execution_count": 43,
   "metadata": {},
   "outputs": [
    {
     "name": "stdout",
     "output_type": "stream",
     "text": [
      "[[1 1 2 1 2 1]]\n",
      "{'you': 4, 'know': 1, 'want': 3, 'your': 5, 'love': 2, 'because': 0}\n"
     ]
    }
   ],
   "source": [
    "from sklearn.feature_extraction.text import CountVectorizer\n",
    "\n",
    "corpus = ['you know I want your love. because I love you.']\n",
    "vector = CountVectorizer()\n",
    "print(vector.fit_transform(corpus).toarray()) # 코퍼스로부터 각 단어의 빈도 수를 기록한다.\n",
    "print(vector.vocabulary_) # 각 단어의 인덱스가 어떻게 부여되었는지를 보여준다"
   ]
  },
  {
   "cell_type": "markdown",
   "metadata": {},
   "source": [
    "예제 문장에서 you와 love는 두 번씩 언급되었으므로 각각 인덱스2와 인덱스4에서 2의 값을 가지며, 그 외의 값에서는 1의 값을 가지는 것을 볼 수 있다.\n",
    "\n",
    "또한, 알파벳 I는 BoW를 만드는 과정에서 사라졌는데, 이는 CountVectorizer가 기본적으로 길이가 2 이상인 문자에 대해서만 토큰으로 인정하기 때문이다. (영어에서는 길이가 짧은 문자를 제거하는 것 또한 전처리작업으로 고려되기도 한다. [참조](https://wikidocs.net/22650)\n",
    "\n",
    "여기서 주의할 점은, 토큰화가 단순히 띄어쓰기 기준으로만 되었다는 것. 영어라면 가능할지 몰라도 한국어는 곤란하다. 띄어쓰기가 제대로 지켜지지 않아도 의미 전달에 문제 없는 경우도 많으며 조사가 많이 쓰이기 때문에 제대로 BoW가 만들어지지 않을 수 있다."
   ]
  },
  {
   "cell_type": "markdown",
   "metadata": {},
   "source": [
    "예제 1. "
   ]
  },
  {
   "cell_type": "code",
   "execution_count": 1,
   "metadata": {},
   "outputs": [
    {
     "name": "stdout",
     "output_type": "stream",
     "text": [
      "[[1 1 1 1 1 1 1 1 1 1 1 1]]\n",
      "{'문재인': 5, '대통령이': 3, '11일': 0, '미국': 6, '워싱턴': 9, '백악관에서': 8, '도널드': 4, '트럼프': 11, '대통령과': 2, '백악관': 7, '정상회담을': 10, '가졌다': 1}\n"
     ]
    }
   ],
   "source": [
    "from sklearn.feature_extraction.text import CountVectorizer\n",
    "corpus = ['문재인 대통령이 11일 미국 워싱턴 백악관에서 도널드 트럼프 대통령과 백악관 정상회담을 가졌다.']\n",
    "vector = CountVectorizer()\n",
    "print(vector.fit_transform(corpus).toarray()) # 코퍼스로부터 각 단어의 빈도 수를 기록한다.\n",
    "print(vector.vocabulary_) # 각 단어의 인덱스가 어떻게 부여되었는지를 보여준다"
   ]
  },
  {
   "cell_type": "markdown",
   "metadata": {},
   "source": [
    "## 실습 \n",
    "\n",
    "예제 2. \n",
    "\n",
    "아래 문장을 넣어서 BoW를 생성해보세요. \n",
    "\n",
    "\"자사고 폐지 논란과 갈등이 이어지고 있다. 교육부가 자사고의 전기 선발 폐지와 일반고 중복지원 금지를 담은 초중등교육법 시행령 개정을 추진해 갈등을 빚은데 이어, 자사고 재지정 평가를 둘러싼 극한 대치로 홍역을 치르고 있다. \n",
    "이는 자사고와 사전 협의 없이 재지정 기준점을 상향하고, \n",
    "교육청이 감사 지적 등을 이유로 감점할 수 있는 점수를 12점으로 대폭 높이는 등 \n",
    "‘폐지 수순’의 평가를 통보했기 때문이다.\""
   ]
  },
  {
   "cell_type": "code",
   "execution_count": 3,
   "metadata": {},
   "outputs": [
    {
     "name": "stdout",
     "output_type": "stream",
     "text": [
      "[[1 1 1 1 1 1 1 1 1 1 1 1 1 1 1 1 1 1 1 1 1 1 1 1 1 1 1 1 1 1 1 2 2 1 1 2\n",
      "  1 1 1 1 1 1 1 2 2 1 1 1]]\n",
      "{'자사고': 32, '폐지': 44, '논란과': 11, '갈등이': 2, '이어지고': 28, '있다': 31, '교육부가': 6, '자사고의': 34, '전기': 36, '선발': 22, '폐지와': 45, '일반고': 30, '중복지원': 38, '금지를': 9, '담은': 13, '초중등교육법': 40, '시행령': 24, '개정을': 5, '추진해': 41, '갈등을': 1, '빚은데': 19, '이어': 27, '재지정': 35, '평가를': 43, '둘러싼': 16, '극한': 8, '대치로': 14, '홍역을': 47, '이는': 26, '자사고와': 33, '사전': 20, '협의': 46, '없이': 25, '기준점을': 10, '상향하고': 21, '교육청이': 7, '감사': 3, '지적': 39, '등을': 17, '이유로': 29, '감점할': 4, '점수를': 37, '12점으로': 0, '대폭': 15, '높이는': 12, '수순': 23, '통보했기': 42, '때문이다': 18}\n"
     ]
    }
   ],
   "source": [
    "from sklearn.feature_extraction.text import CountVectorizer\n",
    "corpus = [\"\"\"자사고 폐지 논란과 갈등이 이어지고 있다. 교육부가 자사고의 전기 선발 폐지와 일반고 중복지원 금지를 담은 초중등교육법 시행령 개정을 추진해 갈등을 빚은데 이어, 자사고 재지정 평가를 둘러싼 극한 대치로 홍역을 치르고 있다. 이는 자사고와 사전 협의 없이 재지정 기준점을 상향하고, \n",
    "교육청이 감사 지적 등을 이유로 감점할 수 있는 점수를 12점으로 대폭 높이는 등 ‘폐지 수순’의 평가를 통보했기 때문이다.\"\"\"]\n",
    "vector = CountVectorizer(stop_words = [\"치르고\",\"있는\"])\n",
    "print(vector.fit_transform(corpus).toarray()) # 코퍼스로부터 각 단어의 빈도 수를 기록한다.\n",
    "print(vector.vocabulary_) # 각 단어의 인덱스가 어떻게 부여되었는지를 보여준다"
   ]
  },
  {
   "cell_type": "markdown",
   "metadata": {},
   "source": [
    "### CountVectorizer로 영어 불용어(Stopwords) 제거 \n",
    "\n",
    "영어의 BoW를 만들기 위해 사용하는 CountVectorizer는 불용어를 지정하면, 불용어는 제외하고 BoW를 만들 수 있도록 불용어 제거 기능을 지원한다. \n"
   ]
  },
  {
   "cell_type": "code",
   "execution_count": 4,
   "metadata": {},
   "outputs": [
    {
     "name": "stdout",
     "output_type": "stream",
     "text": [
      "[[0 1 1 1 0 0 1 0]\n",
      " [0 0 0 1 1 1 0 0]\n",
      " [1 1 1 1 0 0 0 1]]\n",
      "{'john': 2, 'likes': 3, 'play': 6, 'games': 1, 'mary': 4, 'movies': 5, 'watch': 7, 'football': 0}\n"
     ]
    }
   ],
   "source": [
    "#불용어 제거 전\n",
    "from sklearn.feature_extraction.text import CountVectorizer\n",
    "corpus = [\"\"\"John likes to play games.\"\"\",\n",
    "          \"\"\"Mary likes movies too.\"\"\",\n",
    "         \"\"\"John also likes to watch football games.\"\"\"]\n",
    "\n",
    "vector = CountVectorizer(stop_words = \"english\")\n",
    "print(vector.fit_transform(corpus).toarray()) # 코퍼스로부터 각 단어의 빈도 수를 기록한다.\n",
    "print(vector.vocabulary_) # 각 단어의 인덱스가 어떻게 부여되었는지를 보여준다"
   ]
  },
  {
   "cell_type": "markdown",
   "metadata": {},
   "source": [
    "## 4.1.6 단어-문헌 행렬 (Term-Document Matrix)\n",
    "\n",
    "단어 문서 행렬(Term-Document Matrix, TDM)이란 다수의 문서에서 등장하는 각 단어들의 빈도를 행렬로 변환한 것을 뜻한다. 즉, 각 문서에 대한 BoW를 하나의 행렬로 만든 것으로 생각할 수 있으며, BoW 표현 방법 중 하나라고 볼 수 있다. \n",
    "\n",
    "https://en.wikipedia.org/wiki/Document-term_matrix"
   ]
  },
  {
   "cell_type": "code",
   "execution_count": 5,
   "metadata": {},
   "outputs": [],
   "source": [
    "bag_of_words = vector.fit_transform(corpus)"
   ]
  },
  {
   "cell_type": "code",
   "execution_count": 7,
   "metadata": {},
   "outputs": [
    {
     "data": {
      "text/plain": [
       "array([[0, 1, 1, 1, 0, 0, 1, 0],\n",
       "       [0, 0, 0, 1, 1, 1, 0, 0],\n",
       "       [1, 1, 1, 1, 0, 0, 0, 1]], dtype=int64)"
      ]
     },
     "execution_count": 7,
     "metadata": {},
     "output_type": "execute_result"
    }
   ],
   "source": [
    "bag_of_words.toarray()"
   ]
  },
  {
   "cell_type": "code",
   "execution_count": 8,
   "metadata": {},
   "outputs": [
    {
     "data": {
      "text/plain": [
       "['football', 'games', 'john', 'likes', 'mary', 'movies', 'play', 'watch']"
      ]
     },
     "execution_count": 8,
     "metadata": {},
     "output_type": "execute_result"
    }
   ],
   "source": [
    "#get feature names\n",
    "feature_names = vector.get_feature_names()\n",
    "#view feature names\n",
    "feature_names"
   ]
  },
  {
   "cell_type": "code",
   "execution_count": 10,
   "metadata": {},
   "outputs": [
    {
     "data": {
      "text/html": [
       "<div>\n",
       "<style scoped>\n",
       "    .dataframe tbody tr th:only-of-type {\n",
       "        vertical-align: middle;\n",
       "    }\n",
       "\n",
       "    .dataframe tbody tr th {\n",
       "        vertical-align: top;\n",
       "    }\n",
       "\n",
       "    .dataframe thead th {\n",
       "        text-align: right;\n",
       "    }\n",
       "</style>\n",
       "<table border=\"1\" class=\"dataframe\">\n",
       "  <thead>\n",
       "    <tr style=\"text-align: right;\">\n",
       "      <th></th>\n",
       "      <th>football</th>\n",
       "      <th>games</th>\n",
       "      <th>john</th>\n",
       "      <th>likes</th>\n",
       "      <th>mary</th>\n",
       "      <th>movies</th>\n",
       "      <th>play</th>\n",
       "      <th>watch</th>\n",
       "    </tr>\n",
       "  </thead>\n",
       "  <tbody>\n",
       "    <tr>\n",
       "      <th>0</th>\n",
       "      <td>0</td>\n",
       "      <td>1</td>\n",
       "      <td>1</td>\n",
       "      <td>1</td>\n",
       "      <td>0</td>\n",
       "      <td>0</td>\n",
       "      <td>1</td>\n",
       "      <td>0</td>\n",
       "    </tr>\n",
       "    <tr>\n",
       "      <th>1</th>\n",
       "      <td>0</td>\n",
       "      <td>0</td>\n",
       "      <td>0</td>\n",
       "      <td>1</td>\n",
       "      <td>1</td>\n",
       "      <td>1</td>\n",
       "      <td>0</td>\n",
       "      <td>0</td>\n",
       "    </tr>\n",
       "    <tr>\n",
       "      <th>2</th>\n",
       "      <td>1</td>\n",
       "      <td>1</td>\n",
       "      <td>1</td>\n",
       "      <td>1</td>\n",
       "      <td>0</td>\n",
       "      <td>0</td>\n",
       "      <td>0</td>\n",
       "      <td>1</td>\n",
       "    </tr>\n",
       "  </tbody>\n",
       "</table>\n",
       "</div>"
      ],
      "text/plain": [
       "   football  games  john  likes  mary  movies  play  watch\n",
       "0         0      1     1      1     0       0     1      0\n",
       "1         0      0     0      1     1       1     0      0\n",
       "2         1      1     1      1     0       0     0      1"
      ]
     },
     "execution_count": 10,
     "metadata": {},
     "output_type": "execute_result"
    }
   ],
   "source": [
    "import pandas as pd\n",
    "#view as a data frame\n",
    "#Create data frame\n",
    "pd.DataFrame(bag_of_words.toarray(), columns=feature_names)"
   ]
  },
  {
   "cell_type": "code",
   "execution_count": 11,
   "metadata": {},
   "outputs": [
    {
     "name": "stdout",
     "output_type": "stream",
     "text": [
      "[[1 1 1 1]]\n",
      "{'john': 1, 'likes': 2, 'play': 3, 'games': 0}\n"
     ]
    }
   ],
   "source": [
    "#불용어 제거 후 (CountVectorizer 제공)\n",
    "from sklearn.feature_extraction.text import CountVectorizer\n",
    "text=[\"\"\"John likes to play games.\"\"\"]\n",
    "vect = CountVectorizer(stop_words=\"english\")\n",
    "print(vect.fit_transform(text).toarray())\n",
    "print(vect.vocabulary_)"
   ]
  },
  {
   "cell_type": "code",
   "execution_count": 12,
   "metadata": {},
   "outputs": [
    {
     "name": "stdout",
     "output_type": "stream",
     "text": [
      "[[1 1 1 1]]\n",
      "{'john': 1, 'likes': 2, 'play': 3, 'games': 0}\n"
     ]
    }
   ],
   "source": [
    "#직접 불용어 제거 후 \n",
    "from sklearn.feature_extraction.text import CountVectorizer\n",
    "text=[\"\"\"John likes to play games.\"\"\"]\n",
    "vect = CountVectorizer(stop_words=[\"at\", \"of\", \"or\",\"with\",\"the\", \"and\",\"to\",\"on\",\"a\",\"ones\",\"did\",\"do\",\"an\"])\n",
    "print(vect.fit_transform(text).toarray()) \n",
    "print(vect.vocabulary_)"
   ]
  },
  {
   "cell_type": "code",
   "execution_count": 65,
   "metadata": {},
   "outputs": [
    {
     "name": "stdout",
     "output_type": "stream",
     "text": [
      "[[1 1 1 1]]\n",
      "{'john': 1, 'likes': 2, 'play': 3, 'games': 0}\n"
     ]
    }
   ],
   "source": [
    "from sklearn.feature_extraction.text import CountVectorizer\n",
    "text=[\"\"\"John likes to play games.\"\"\"]\n",
    "from nltk.corpus import stopwords\n",
    "sw = stopwords.words(\"english\")\n",
    "vect = CountVectorizer(stop_words =sw)\n",
    "print(vect.fit_transform(text).toarray()) \n",
    "print(vect.vocabulary_)"
   ]
  },
  {
   "cell_type": "markdown",
   "metadata": {},
   "source": [
    "#### 응용\n",
    "- TDM 만들기"
   ]
  },
  {
   "cell_type": "markdown",
   "metadata": {},
   "source": [
    "## 4.2.1. Term Weight\n",
    "\n",
    "### -  단순 빈도 기반 분석의 한계 \n",
    "\n",
    "- 문헌의 길이\n",
    "    각각의 문헌의 길이에 차이가 있어서 중요도 값에 bias를 주게 됨.\n",
    "- 단어의 독립성 가정\n",
    "    각각의 단어는 독립하다는 가정을 하기 때문에 비슷한 의미를 가진 단어끼리도 독립된 단어로 인식되어 분석의 퀄리티가 낮아짐. \n",
    "- 순서 무시\n",
    "    단어들이 단어와 단어 사이 또는 그 문장에서 가지는 문맥적인 정보가 소실됨. \n",
    "- Zipf's Law\n",
    "\n",
    "<img src = \"https://i.ytimg.com/vi/KvOS2MdKFwE/maxresdefault.jpg\">\n",
    "<img src = \"https://i1.wp.com/www.watzthis.com/wp-content/uploads/2015/10/zipfgraph.png\">\n",
    "\n",
    "\n",
    "    \n",
    "**불용어 또는 일반적인 단어가 더 많이 출현하기 때문에 문헌에서 자주 나타나는 단어가 중요한 단어라는 가정에는 문제가 있음.** \n",
    "    \n",
    "\n",
    "### - 단어 가중치 (Term Weights)\n",
    "\n",
    "- 단어는 하나의 단어, 키워드, 혹은 더 긴 구로 표현 가능함. \n",
    "- 단어 카운팅, 즉 일정 단어의 단순 빈도수만으로는 그 단어의 중요도와 그 문헌의 차별성까지 나타내기 어려움 => **단어 가중치 기법**이 필요함. \n"
   ]
  },
  {
   "cell_type": "markdown",
   "metadata": {},
   "source": [
    "## 4.2.2. TF-IDF (Term Frequency x Inverse Document Frequency)\n",
    "\n",
    "단어 가중치 기법 중 가장 잘 알려지고 많이 쓰이는 기법이며 모든 문서에 나타는 흔한 단어들을 걸러내고 특정 단어가 가지는 **중요도**를 측정함\n",
    "\n",
    "TF-IDF는 모든 문서에서 자주 등장하는 단어는 중요도가 낮다고 판단하며, 특정 문서에서만 자주 등장하는 단어는 중요도가 높다고 판단한다. TF-IDF값이 낮으면 중요도가 낮은 것이며, TF-IDF 값이 크면 중요도가 큰 것이다. \n",
    "\n",
    "즉, 관사(the, a 등)와 같은 불용어는 모든 문서에 자주 등장하기 때문에 TF-IDF값도 다른 단어에 비해 낮다. "
   ]
  },
  {
   "cell_type": "markdown",
   "metadata": {},
   "source": [
    "<img src = \"http://images.slideplayer.com/16/5094063/slides/slide_2.jpg\" width = \"400\"> \n",
    "\n",
    "<img src = \"https://i.ytimg.com/vi/zvFGNpbAfEI/hqdefault.jpg\" width = \"400\"> "
   ]
  },
  {
   "cell_type": "markdown",
   "metadata": {},
   "source": [
    "<img src = \"http://www.bloter.net/wp-content/uploads/2016/09/td-idf-graphic-765x255.png\" width = \"400\">\n",
    "\n",
    "기타 참고 자료: \n",
    "참조 1) https://wikidocs.net/31698\n",
    "참조 2) http://www.tfidf.com/"
   ]
  },
  {
   "cell_type": "markdown",
   "metadata": {},
   "source": [
    "<img src = \"./tf-idf.png\" width = 400>"
   ]
  },
  {
   "cell_type": "markdown",
   "metadata": {},
   "source": [
    "## - Term Frequency (TF)\n",
    "\n",
    "- 주어진 문서에 대한 단어 빈도는 단순히 그 문서에서 해당 단어가 나타나는 빈도수\n",
    "\n",
    "- 문서의 길이가 길면 해당 단어의 실제 중요도와는 상관없이 단어의 빈도수는 증가되는 일이 발생하므로 정규화(normalization)이 필요함. \n",
    "\n",
    "- 특정 문헌 dj에서 단어 tj의 중요도 값을 구하려면 문서 dj에 나타나는 단어 ti를 ni,j로 정의하여 분자로, 해당 문서 dj내에 있는 모든 단어의 수를 분모로 둔다. 이럴 때 특정한 문헌 dj에서  i번째 단어의 중요도, 또는 i번째 단어의 (상대적) 빈도를 구할 수 있다.\n",
    "\n",
    "## -  Inverse Document Frequency (IDF)\n",
    "\n",
    "- 해당 단어의 일반적인 중요도를 나타낸 값\n",
    "\n",
    "- 단어 t가 등장하는 문헌들의 수를 분모로한 값에 로그를 취함. \n"
   ]
  },
  {
   "cell_type": "markdown",
   "metadata": {},
   "source": [
    "## 4.3.1. Scikit-learn으로 TF-IDF score계산\n",
    "\n",
    "### 1) 벡터화"
   ]
  },
  {
   "cell_type": "code",
   "execution_count": 13,
   "metadata": {},
   "outputs": [],
   "source": [
    "from sklearn.feature_extraction.text import CountVectorizer\n",
    "import numpy as np\n",
    "import pandas as pd \n",
    "\n",
    "book = [ \"\"\"Daniel enjoys reading books.\"\"\",\n",
    "          \"\"\"Yoon likes Harry Potter\"\"\",\n",
    "          \"\"\"Daniel's favorite character is Harry\"\"\"\n",
    "]\n",
    "\n",
    "vector = CountVectorizer(stop_words = \"english\") #stop_words는 리스트로 지정해도 된다"
   ]
  },
  {
   "cell_type": "code",
   "execution_count": 14,
   "metadata": {},
   "outputs": [
    {
     "name": "stdout",
     "output_type": "stream",
     "text": [
      "[[1 0 1 1 0 0 0 0 1 0]\n",
      " [0 0 0 0 0 1 1 1 0 1]\n",
      " [0 1 1 0 1 1 0 0 0 0]]\n"
     ]
    }
   ],
   "source": [
    "#코퍼스로부터 각 단어의 빈도 수를 기록한다.\n",
    "book_vector = vector.fit_transform(book).toarray()\n",
    "print(book_vector) "
   ]
  },
  {
   "cell_type": "code",
   "execution_count": 15,
   "metadata": {},
   "outputs": [
    {
     "data": {
      "text/plain": [
       "{'daniel': 2,\n",
       " 'enjoys': 3,\n",
       " 'reading': 8,\n",
       " 'books': 0,\n",
       " 'yoon': 9,\n",
       " 'likes': 6,\n",
       " 'harry': 5,\n",
       " 'potter': 7,\n",
       " 'favorite': 4,\n",
       " 'character': 1}"
      ]
     },
     "execution_count": 15,
     "metadata": {},
     "output_type": "execute_result"
    }
   ],
   "source": [
    "book_vector_vocab = vector.vocabulary_\n",
    "book_vector_vocab "
   ]
  },
  {
   "cell_type": "markdown",
   "metadata": {},
   "source": [
    "### 2) TF-IDF score"
   ]
  },
  {
   "cell_type": "code",
   "execution_count": 16,
   "metadata": {},
   "outputs": [
    {
     "name": "stdout",
     "output_type": "stream",
     "text": [
      "['books', 'character', 'daniel', 'enjoys', 'favorite', 'harry', 'is', 'likes', 'potter', 'reading', 'yoon']\n",
      "(3, 11)\n"
     ]
    }
   ],
   "source": [
    "#sklearn에서 제공하는 TfidfVectorizer로 벡터화할 수 있다. \n",
    "from sklearn.feature_extraction.text import TfidfVectorizer\n",
    "vectorizer = TfidfVectorizer()\n",
    "book_vector = vectorizer.fit_transform(book)\n",
    "book_vector_names = vectorizer.get_feature_names()\n",
    "print(book_vector_names)\n",
    "print(book_vector.shape)"
   ]
  },
  {
   "cell_type": "code",
   "execution_count": 119,
   "metadata": {},
   "outputs": [
    {
     "data": {
      "text/plain": [
       "array([[0.52863461, 0.        , 0.40204024, 0.52863461, 0.        ,\n",
       "        0.        , 0.        , 0.        , 0.        , 0.52863461,\n",
       "        0.        ],\n",
       "       [0.        , 0.        , 0.        , 0.        , 0.        ,\n",
       "        0.40204024, 0.        , 0.52863461, 0.52863461, 0.        ,\n",
       "        0.52863461],\n",
       "       [0.        , 0.49047908, 0.37302199, 0.        , 0.49047908,\n",
       "        0.37302199, 0.49047908, 0.        , 0.        , 0.        ,\n",
       "        0.        ]])"
      ]
     },
     "execution_count": 119,
     "metadata": {},
     "output_type": "execute_result"
    }
   ],
   "source": [
    "book_vector.toarray()"
   ]
  },
  {
   "cell_type": "markdown",
   "metadata": {},
   "source": [
    "Pandas 데이터프레임으로 표현해보자. "
   ]
  },
  {
   "cell_type": "code",
   "execution_count": 17,
   "metadata": {},
   "outputs": [
    {
     "data": {
      "text/html": [
       "<div>\n",
       "<style scoped>\n",
       "    .dataframe tbody tr th:only-of-type {\n",
       "        vertical-align: middle;\n",
       "    }\n",
       "\n",
       "    .dataframe tbody tr th {\n",
       "        vertical-align: top;\n",
       "    }\n",
       "\n",
       "    .dataframe thead th {\n",
       "        text-align: right;\n",
       "    }\n",
       "</style>\n",
       "<table border=\"1\" class=\"dataframe\">\n",
       "  <thead>\n",
       "    <tr style=\"text-align: right;\">\n",
       "      <th></th>\n",
       "      <th>books</th>\n",
       "      <th>character</th>\n",
       "      <th>daniel</th>\n",
       "      <th>enjoys</th>\n",
       "      <th>favorite</th>\n",
       "      <th>harry</th>\n",
       "      <th>is</th>\n",
       "      <th>likes</th>\n",
       "      <th>potter</th>\n",
       "      <th>reading</th>\n",
       "      <th>yoon</th>\n",
       "    </tr>\n",
       "  </thead>\n",
       "  <tbody>\n",
       "    <tr>\n",
       "      <th>0</th>\n",
       "      <td>0.528635</td>\n",
       "      <td>0.000000</td>\n",
       "      <td>0.402040</td>\n",
       "      <td>0.528635</td>\n",
       "      <td>0.000000</td>\n",
       "      <td>0.000000</td>\n",
       "      <td>0.000000</td>\n",
       "      <td>0.000000</td>\n",
       "      <td>0.000000</td>\n",
       "      <td>0.528635</td>\n",
       "      <td>0.000000</td>\n",
       "    </tr>\n",
       "    <tr>\n",
       "      <th>1</th>\n",
       "      <td>0.000000</td>\n",
       "      <td>0.000000</td>\n",
       "      <td>0.000000</td>\n",
       "      <td>0.000000</td>\n",
       "      <td>0.000000</td>\n",
       "      <td>0.402040</td>\n",
       "      <td>0.000000</td>\n",
       "      <td>0.528635</td>\n",
       "      <td>0.528635</td>\n",
       "      <td>0.000000</td>\n",
       "      <td>0.528635</td>\n",
       "    </tr>\n",
       "    <tr>\n",
       "      <th>2</th>\n",
       "      <td>0.000000</td>\n",
       "      <td>0.490479</td>\n",
       "      <td>0.373022</td>\n",
       "      <td>0.000000</td>\n",
       "      <td>0.490479</td>\n",
       "      <td>0.373022</td>\n",
       "      <td>0.490479</td>\n",
       "      <td>0.000000</td>\n",
       "      <td>0.000000</td>\n",
       "      <td>0.000000</td>\n",
       "      <td>0.000000</td>\n",
       "    </tr>\n",
       "  </tbody>\n",
       "</table>\n",
       "</div>"
      ],
      "text/plain": [
       "      books  character    daniel    enjoys  favorite     harry        is  \\\n",
       "0  0.528635   0.000000  0.402040  0.528635  0.000000  0.000000  0.000000   \n",
       "1  0.000000   0.000000  0.000000  0.000000  0.000000  0.402040  0.000000   \n",
       "2  0.000000   0.490479  0.373022  0.000000  0.490479  0.373022  0.490479   \n",
       "\n",
       "      likes    potter   reading      yoon  \n",
       "0  0.000000  0.000000  0.528635  0.000000  \n",
       "1  0.528635  0.528635  0.000000  0.528635  \n",
       "2  0.000000  0.000000  0.000000  0.000000  "
      ]
     },
     "execution_count": 17,
     "metadata": {},
     "output_type": "execute_result"
    }
   ],
   "source": [
    "pd.DataFrame(book_vector.toarray(), columns=book_vector_names)"
   ]
  },
  {
   "cell_type": "markdown",
   "metadata": {},
   "source": [
    " ### 심화. \n",
    " Cosine 유사도를 이용하여 문서 간 유사도 구하기\n",
    " \n",
    " 참조: Cosine similarity based on tf-idf score. http://blog.christianperone.com/2013/09/machine-learning-cosine-similarity-for-vector-space-models-part-iii/"
   ]
  },
  {
   "cell_type": "code",
   "execution_count": 18,
   "metadata": {},
   "outputs": [],
   "source": [
    "documents = (\n",
    "\"The sky is blue\",\n",
    "\"The sun is bright\",\n",
    "\"The sun in the sky is bright\",\n",
    "\"We can see the shining sun, the bright sun\",\n",
    "\"sun is hot\",\n",
    "\"In the summer, it's very hot and sunny\",\n",
    "\"I hate the hot weather\"\n",
    ")"
   ]
  },
  {
   "cell_type": "code",
   "execution_count": 19,
   "metadata": {},
   "outputs": [
    {
     "name": "stdout",
     "output_type": "stream",
     "text": [
      "  (0, 5)\t0.6387085483562188\n",
      "  (0, 0)\t0.7694487573949885\n",
      "  (1, 7)\t0.6555948618438714\n",
      "  (1, 1)\t0.7551128241024088\n",
      "  (2, 5)\t0.6620685404334281\n",
      "  (2, 7)\t0.4913311714105653\n",
      "  (2, 1)\t0.5659142406484144\n",
      "  (3, 7)\t0.7087999922008041\n",
      "  (3, 1)\t0.4081971923400896\n",
      "  (3, 4)\t0.5753065471744678\n",
      "  (4, 7)\t0.6555948618438714\n",
      "  (4, 3)\t0.7551128241024088\n",
      "  (5, 3)\t0.4484383430387477\n",
      "  (5, 6)\t0.6320217767184382\n",
      "  (5, 8)\t0.6320217767184382\n",
      "  (6, 3)\t0.4484383430387477\n",
      "  (6, 2)\t0.6320217767184382\n",
      "  (6, 9)\t0.6320217767184382\n"
     ]
    }
   ],
   "source": [
    "from sklearn.feature_extraction.text import TfidfVectorizer\n",
    "\n",
    "tfidf_vectorizer = TfidfVectorizer(stop_words = \"english\")\n",
    "tfidf_matrix = tfidf_vectorizer.fit_transform(documents)\n",
    "\n",
    "print(tfidf_matrix)"
   ]
  },
  {
   "cell_type": "code",
   "execution_count": 20,
   "metadata": {},
   "outputs": [
    {
     "name": "stdout",
     "output_type": "stream",
     "text": [
      "0 blue\n",
      "1 bright\n",
      "2 hate\n",
      "3 hot\n",
      "4 shining\n",
      "5 sky\n",
      "6 summer\n",
      "7 sun\n",
      "8 sunny\n",
      "9 weather\n"
     ]
    }
   ],
   "source": [
    "for i, feature in enumerate(tfidf_vectorizer.get_feature_names()):\n",
    "    print (i,feature)"
   ]
  },
  {
   "cell_type": "code",
   "execution_count": 21,
   "metadata": {},
   "outputs": [
    {
     "data": {
      "text/plain": [
       "array([[1.        , 0.        , 0.42286884, 0.        , 0.        ,\n",
       "        0.        , 0.        ],\n",
       "       [0.        , 1.        , 0.74944329, 0.77292057, 0.42980462,\n",
       "        0.        , 0.        ],\n",
       "       [0.42286884, 0.74944329, 1.        , 0.57926013, 0.32211419,\n",
       "        0.        , 0.        ],\n",
       "       [0.        , 0.77292057, 0.57926013, 1.        , 0.46468563,\n",
       "        0.        , 0.        ],\n",
       "       [0.        , 0.42980462, 0.32211419, 0.46468563, 1.        ,\n",
       "        0.33862154, 0.33862154],\n",
       "       [0.        , 0.        , 0.        , 0.        , 0.33862154,\n",
       "        1.        , 0.20109695],\n",
       "       [0.        , 0.        , 0.        , 0.        , 0.33862154,\n",
       "        0.20109695, 1.        ]])"
      ]
     },
     "execution_count": 21,
     "metadata": {},
     "output_type": "execute_result"
    }
   ],
   "source": [
    "from sklearn.metrics.pairwise import cosine_similarity\n",
    "cos = cosine_similarity(tfidf_matrix[:], tfidf_matrix)\n",
    "cos"
   ]
  },
  {
   "cell_type": "code",
   "execution_count": 32,
   "metadata": {},
   "outputs": [
    {
     "data": {
      "text/html": [
       "<div>\n",
       "<style scoped>\n",
       "    .dataframe tbody tr th:only-of-type {\n",
       "        vertical-align: middle;\n",
       "    }\n",
       "\n",
       "    .dataframe tbody tr th {\n",
       "        vertical-align: top;\n",
       "    }\n",
       "\n",
       "    .dataframe thead th {\n",
       "        text-align: right;\n",
       "    }\n",
       "</style>\n",
       "<table border=\"1\" class=\"dataframe\">\n",
       "  <thead>\n",
       "    <tr style=\"text-align: right;\">\n",
       "      <th></th>\n",
       "      <th>0</th>\n",
       "      <th>1</th>\n",
       "      <th>2</th>\n",
       "      <th>3</th>\n",
       "      <th>4</th>\n",
       "      <th>5</th>\n",
       "      <th>6</th>\n",
       "    </tr>\n",
       "  </thead>\n",
       "  <tbody>\n",
       "    <tr>\n",
       "      <th>0</th>\n",
       "      <td>1.000</td>\n",
       "      <td>0.000</td>\n",
       "      <td>0.423</td>\n",
       "      <td>0.000</td>\n",
       "      <td>0.000</td>\n",
       "      <td>0.000</td>\n",
       "      <td>0.000</td>\n",
       "    </tr>\n",
       "    <tr>\n",
       "      <th>1</th>\n",
       "      <td>0.000</td>\n",
       "      <td>1.000</td>\n",
       "      <td>0.749</td>\n",
       "      <td>0.773</td>\n",
       "      <td>0.430</td>\n",
       "      <td>0.000</td>\n",
       "      <td>0.000</td>\n",
       "    </tr>\n",
       "    <tr>\n",
       "      <th>2</th>\n",
       "      <td>0.423</td>\n",
       "      <td>0.749</td>\n",
       "      <td>1.000</td>\n",
       "      <td>0.579</td>\n",
       "      <td>0.322</td>\n",
       "      <td>0.000</td>\n",
       "      <td>0.000</td>\n",
       "    </tr>\n",
       "    <tr>\n",
       "      <th>3</th>\n",
       "      <td>0.000</td>\n",
       "      <td>0.773</td>\n",
       "      <td>0.579</td>\n",
       "      <td>1.000</td>\n",
       "      <td>0.465</td>\n",
       "      <td>0.000</td>\n",
       "      <td>0.000</td>\n",
       "    </tr>\n",
       "    <tr>\n",
       "      <th>4</th>\n",
       "      <td>0.000</td>\n",
       "      <td>0.430</td>\n",
       "      <td>0.322</td>\n",
       "      <td>0.465</td>\n",
       "      <td>1.000</td>\n",
       "      <td>0.339</td>\n",
       "      <td>0.339</td>\n",
       "    </tr>\n",
       "    <tr>\n",
       "      <th>5</th>\n",
       "      <td>0.000</td>\n",
       "      <td>0.000</td>\n",
       "      <td>0.000</td>\n",
       "      <td>0.000</td>\n",
       "      <td>0.339</td>\n",
       "      <td>1.000</td>\n",
       "      <td>0.201</td>\n",
       "    </tr>\n",
       "    <tr>\n",
       "      <th>6</th>\n",
       "      <td>0.000</td>\n",
       "      <td>0.000</td>\n",
       "      <td>0.000</td>\n",
       "      <td>0.000</td>\n",
       "      <td>0.339</td>\n",
       "      <td>0.201</td>\n",
       "      <td>1.000</td>\n",
       "    </tr>\n",
       "  </tbody>\n",
       "</table>\n",
       "</div>"
      ],
      "text/plain": [
       "       0      1      2      3      4      5      6\n",
       "0  1.000  0.000  0.423  0.000  0.000  0.000  0.000\n",
       "1  0.000  1.000  0.749  0.773  0.430  0.000  0.000\n",
       "2  0.423  0.749  1.000  0.579  0.322  0.000  0.000\n",
       "3  0.000  0.773  0.579  1.000  0.465  0.000  0.000\n",
       "4  0.000  0.430  0.322  0.465  1.000  0.339  0.339\n",
       "5  0.000  0.000  0.000  0.000  0.339  1.000  0.201\n",
       "6  0.000  0.000  0.000  0.000  0.339  0.201  1.000"
      ]
     },
     "execution_count": 32,
     "metadata": {},
     "output_type": "execute_result"
    }
   ],
   "source": [
    "import pandas as pd\n",
    "round(pd.DataFrame(cos),3)"
   ]
  },
  {
   "cell_type": "code",
   "execution_count": 28,
   "metadata": {},
   "outputs": [
    {
     "data": {
      "text/plain": [
       "array([[0.]])"
      ]
     },
     "execution_count": 28,
     "metadata": {},
     "output_type": "execute_result"
    }
   ],
   "source": [
    "cosine_similarity(tfidf_matrix[0],tfidf_matrix[1])"
   ]
  },
  {
   "cell_type": "code",
   "execution_count": 30,
   "metadata": {},
   "outputs": [
    {
     "data": {
      "text/plain": [
       "array([[0.42286884]])"
      ]
     },
     "execution_count": 30,
     "metadata": {},
     "output_type": "execute_result"
    }
   ],
   "source": [
    "cosine_similarity(tfidf_matrix[0],tfidf_matrix[2])"
   ]
  },
  {
   "cell_type": "code",
   "execution_count": null,
   "metadata": {},
   "outputs": [],
   "source": []
  }
 ],
 "metadata": {
  "kernelspec": {
   "display_name": "Python 3",
   "language": "python",
   "name": "python3"
  },
  "language_info": {
   "codemirror_mode": {
    "name": "ipython",
    "version": 3
   },
   "file_extension": ".py",
   "mimetype": "text/x-python",
   "name": "python",
   "nbconvert_exporter": "python",
   "pygments_lexer": "ipython3",
   "version": "3.6.8"
  }
 },
 "nbformat": 4,
 "nbformat_minor": 2
}
